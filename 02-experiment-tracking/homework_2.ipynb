{
 "cells": [
  {
   "cell_type": "code",
   "execution_count": 1,
   "id": "f3689ece-ff8a-4c2d-be9e-a22ca2b8ae27",
   "metadata": {},
   "outputs": [
    {
     "name": "stdout",
     "output_type": "stream",
     "text": [
      "The version of mlflow is 2.22.0\n"
     ]
    }
   ],
   "source": [
    "import mlflow\n",
    "\n",
    "print('The version of mlflow is ' + mlflow.__version__)"
   ]
  },
  {
   "cell_type": "code",
   "execution_count": null,
   "id": "a976eb4a-44fd-4300-a74f-2da2254b8e11",
   "metadata": {},
   "outputs": [],
   "source": [
    "'''\n",
    "mlflow.set_tracking_uri(\"sqlite:///mlflow.db\")\n",
    "mlflow.set_experiment(\"experiment-tracking\")\n",
    "'''"
   ]
  }
 ],
 "metadata": {
  "kernelspec": {
   "display_name": "Python 3 (ipykernel)",
   "language": "python",
   "name": "python3"
  },
  "language_info": {
   "codemirror_mode": {
    "name": "ipython",
    "version": 3
   },
   "file_extension": ".py",
   "mimetype": "text/x-python",
   "name": "python",
   "nbconvert_exporter": "python",
   "pygments_lexer": "ipython3",
   "version": "3.12.1"
  }
 },
 "nbformat": 4,
 "nbformat_minor": 5
}
